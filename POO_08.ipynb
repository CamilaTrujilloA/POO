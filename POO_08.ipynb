{
  "nbformat": 4,
  "nbformat_minor": 0,
  "metadata": {
    "colab": {
      "provenance": []
    },
    "kernelspec": {
      "name": "python3",
      "display_name": "Python 3"
    },
    "language_info": {
      "name": "python"
    }
  },
  "cells": [
    {
      "cell_type": "markdown",
      "source": [
        "# POLIMORFISMOS"
      ],
      "metadata": {
        "id": "bzMo51V0p0sz"
      }
    },
    {
      "cell_type": "markdown",
      "source": [
        "* A partir de un data frame puedo tener atributos y metodos: graficas, .describe, minimo, maximo, rango intercuartil.\n",
        "* Def es para crear formulas, es global\n",
        "\n",
        "\n",
        "\n"
      ],
      "metadata": {
        "id": "G5I-TEakq1yi"
      }
    },
    {
      "cell_type": "code",
      "source": [
        "class Animal(): #esta seria la clase maestra\n",
        "  # init es el inicializador de las definiciones\n",
        "  # self da la autoasignación\n",
        "  def __init__(self):\n",
        "    print(\"Animal class creada\")\n",
        "\n",
        "  def guess_who(self):\n",
        "    print(\"Soy un animalito\")\n",
        "\n",
        "  def sleep(self):\n",
        "    print(\"Estoy durmiendo\")"
      ],
      "metadata": {
        "id": "treAGSLTrDJI"
      },
      "execution_count": 4,
      "outputs": []
    },
    {
      "cell_type": "code",
      "source": [
        "# my_animal es la variable\n",
        "# Animal() es un cursor- un () vacio que da el self\n",
        "my_animal = Animal()"
      ],
      "metadata": {
        "colab": {
          "base_uri": "https://localhost:8080/"
        },
        "id": "0GVUu3odrcwa",
        "outputId": "afad24f4-8a6a-4247-f63e-949f72e99fa4"
      },
      "execution_count": 8,
      "outputs": [
        {
          "output_type": "stream",
          "name": "stdout",
          "text": [
            "Animal class creada\n"
          ]
        }
      ]
    },
    {
      "cell_type": "code",
      "source": [
        "# \".\" es ingresar a las funaciones\n",
        "my_animal.sleep()"
      ],
      "metadata": {
        "colab": {
          "base_uri": "https://localhost:8080/"
        },
        "id": "4rgNuh3OrocA",
        "outputId": "2d0817a5-fa31-4c6d-c097-a4057011c211"
      },
      "execution_count": 9,
      "outputs": [
        {
          "output_type": "stream",
          "name": "stdout",
          "text": [
            "Estoy durmiendo\n"
          ]
        }
      ]
    },
    {
      "cell_type": "code",
      "source": [
        "# esta nueva clase depende de la anterior - Herencia\n",
        "\n",
        "class Cat(Animal):\n",
        "  def __init__(self):   #inicializa funciones dentro de la clase cat\n",
        "    Animal.__init__(self) #inicializa la clase maestra dentro de la subordinada\n",
        "    print (\"Cat class creada\")\n",
        "\n",
        "  def guess_who(self):\n",
        "    print(\"Soy un Gatito\")\n",
        "\n",
        "  def meow(self):\n",
        "    print(\"MEOWW!!\")"
      ],
      "metadata": {
        "id": "rzj-dBcCtovU"
      },
      "execution_count": 10,
      "outputs": []
    },
    {
      "cell_type": "code",
      "source": [
        "my_cat = Cat()"
      ],
      "metadata": {
        "colab": {
          "base_uri": "https://localhost:8080/"
        },
        "id": "SYk-vbRawaw4",
        "outputId": "c3db60f8-6e94-4729-aedb-fce9861623be"
      },
      "execution_count": 13,
      "outputs": [
        {
          "output_type": "stream",
          "name": "stdout",
          "text": [
            "Animal class creada\n",
            "Cat class creada\n"
          ]
        }
      ]
    },
    {
      "cell_type": "code",
      "source": [
        "my_cat.guess_who()"
      ],
      "metadata": {
        "colab": {
          "base_uri": "https://localhost:8080/"
        },
        "id": "nW2sSxamwoQX",
        "outputId": "e5d54ccf-65df-4e80-f023-a9a3d875c84d"
      },
      "execution_count": 14,
      "outputs": [
        {
          "output_type": "stream",
          "name": "stdout",
          "text": [
            "Soy un Gatito\n"
          ]
        }
      ]
    },
    {
      "cell_type": "code",
      "source": [
        "my_cat.meow()"
      ],
      "metadata": {
        "colab": {
          "base_uri": "https://localhost:8080/"
        },
        "id": "jIieBA6pwvV-",
        "outputId": "79ba18c8-0241-4eaf-b633-fb94c500201c"
      },
      "execution_count": 15,
      "outputs": [
        {
          "output_type": "stream",
          "name": "stdout",
          "text": [
            "MEOWW!!\n"
          ]
        }
      ]
    },
    {
      "cell_type": "markdown",
      "source": [
        "- polimorfismos"
      ],
      "metadata": {
        "id": "-LMUmsICyUeu"
      }
    },
    {
      "cell_type": "code",
      "source": [
        "class Doggy():\n",
        "\n",
        "  def __init__(self,name, raza):\n",
        "    self.name = name\n",
        "    self.raza = raza\n",
        "\n",
        "  def speak(self):\n",
        "    return self.name +\"dice WOOF!!\""
      ],
      "metadata": {
        "id": "U5D74dK-xEBS"
      },
      "execution_count": 23,
      "outputs": []
    },
    {
      "cell_type": "code",
      "source": [
        "class caty():\n",
        "\n",
        "  def __init__(self,name, raza):\n",
        "    self.name = name\n",
        "    self.raza = raza\n",
        "\n",
        "  def speak(self):\n",
        "    return self.name +\"dice MEOWW!!\"\n",
        ""
      ],
      "metadata": {
        "id": "fs1a-HLxyo_R"
      },
      "execution_count": 24,
      "outputs": []
    },
    {
      "cell_type": "code",
      "source": [
        "my_dog = Doggy(\"Buzz\",\"Labrador\")\n",
        "my_cat = caty(\"Tom\", \"Persa\")"
      ],
      "metadata": {
        "id": "08_rcHOry1sC"
      },
      "execution_count": 25,
      "outputs": []
    },
    {
      "cell_type": "code",
      "source": [
        "my_dog.speak()"
      ],
      "metadata": {
        "colab": {
          "base_uri": "https://localhost:8080/",
          "height": 35
        },
        "id": "ddoxmA8_zi4J",
        "outputId": "66642fbd-518b-4bb4-b92c-c1672d35f06d"
      },
      "execution_count": 26,
      "outputs": [
        {
          "output_type": "execute_result",
          "data": {
            "text/plain": [
              "'Buzzdice WOOF!!'"
            ],
            "application/vnd.google.colaboratory.intrinsic+json": {
              "type": "string"
            }
          },
          "metadata": {},
          "execution_count": 26
        }
      ]
    },
    {
      "cell_type": "code",
      "source": [
        "my_cat.speak()"
      ],
      "metadata": {
        "colab": {
          "base_uri": "https://localhost:8080/",
          "height": 35
        },
        "id": "X6cbxrOFz-6C",
        "outputId": "4b704c9e-53e6-4895-d3eb-06fcf9292297"
      },
      "execution_count": 27,
      "outputs": [
        {
          "output_type": "execute_result",
          "data": {
            "text/plain": [
              "'Tomdice MEOWW!!'"
            ],
            "application/vnd.google.colaboratory.intrinsic+json": {
              "type": "string"
            }
          },
          "metadata": {},
          "execution_count": 27
        }
      ]
    },
    {
      "cell_type": "code",
      "source": [],
      "metadata": {
        "id": "Q1T4927g16HT"
      },
      "execution_count": null,
      "outputs": []
    }
  ]
}