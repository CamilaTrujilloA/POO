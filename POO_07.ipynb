{
  "nbformat": 4,
  "nbformat_minor": 0,
  "metadata": {
    "colab": {
      "provenance": []
    },
    "kernelspec": {
      "name": "python3",
      "display_name": "Python 3"
    },
    "language_info": {
      "name": "python"
    }
  },
  "cells": [
    {
      "cell_type": "markdown",
      "source": [
        "##Condicionales: if...elif...else"
      ],
      "metadata": {
        "id": "-EDqF516bSxE"
      }
    },
    {
      "cell_type": "markdown",
      "source": [
        "#### Ejemplo 1"
      ],
      "metadata": {
        "id": "H7nQkutzdUF6"
      }
    },
    {
      "cell_type": "code",
      "source": [
        "letra= \"A\"\n",
        "\n",
        "if letra==\"B\":\n",
        "  print(\"La letra es B\")\n",
        "elif letra==\"c\":\n",
        "  print(\"La letra es C\")\n",
        "elif letra==\"A\":\n",
        "  print(\"La letra es A\")\n",
        "else:\n",
        "  print(\"La letra no es A ni B ni C\")\n"
      ],
      "metadata": {
        "colab": {
          "base_uri": "https://localhost:8080/"
        },
        "id": "4hT04JkDbZxv",
        "outputId": "9ba6f12e-867e-4cff-92ca-3a78635f68d4"
      },
      "execution_count": null,
      "outputs": [
        {
          "output_type": "stream",
          "name": "stdout",
          "text": [
            "La letra es A\n"
          ]
        }
      ]
    },
    {
      "cell_type": "markdown",
      "source": [
        "#### Ejemplo 2"
      ],
      "metadata": {
        "id": "q98VBw_Oda1c"
      }
    },
    {
      "cell_type": "code",
      "source": [
        "#interactua con el usuario\n",
        "\n",
        "numero=int(input(\"Escribe un número: \"))"
      ],
      "metadata": {
        "colab": {
          "base_uri": "https://localhost:8080/"
        },
        "id": "IGsh7MRXdaeh",
        "outputId": "f16314f4-c956-47f0-b924-da9cd04ced8c"
      },
      "execution_count": null,
      "outputs": [
        {
          "name": "stdout",
          "output_type": "stream",
          "text": [
            "Escribe un número: 6\n"
          ]
        }
      ]
    },
    {
      "cell_type": "code",
      "source": [
        "# La f guarda el número como un string\n",
        "\n",
        "numero=int(input(\"Escribe un número: \"))\n",
        "if numero % 2== 0 and numero % 4 !=0:\n",
        "  print(f\"{numero} es multiplo de 2\")\n",
        "elif numero % 4==0:\n",
        "  print(f\"{numero} es multiplo de 2 y 4\")\n",
        "else:\n",
        "  print(f\"{numero} no es multiplo de 2\")"
      ],
      "metadata": {
        "colab": {
          "base_uri": "https://localhost:8080/"
        },
        "id": "PovSmly-d-Zn",
        "outputId": "e1ba1444-2715-43a9-8bd5-9d370ef62e83"
      },
      "execution_count": null,
      "outputs": [
        {
          "output_type": "stream",
          "name": "stdout",
          "text": [
            "Escribe un número: 6\n",
            "6 es multiplo de 2\n"
          ]
        }
      ]
    },
    {
      "cell_type": "code",
      "source": [
        "premios=int(input(\"Cuantos premios recibe tu mascota al dia? \"))\n",
        "if premios == 0:\n",
        "  print(\"Tu mascota recibe: \" f\"{premios} premios por lo tanto no lo quieres.\")\n",
        "elif premios >=1 and premios <=4:\n",
        "  print(\"Tu mascota recibe: \" f\"{premios} premios por lo tanto se porta muy bien y requiere premios.\")\n",
        "elif premios >=5 and premios <=8:\n",
        "  print(\"Tu mascota recibe: \" f\"{premios} premios por lo tanto lo consientes mucho\")\n",
        "else:\n",
        "  print(\"Tu mascota recibe: \" f\"{premios} premios por lo tanto tu mascota es gord@\")"
      ],
      "metadata": {
        "colab": {
          "base_uri": "https://localhost:8080/"
        },
        "id": "Ahb4X3INf7Ej",
        "outputId": "5c6bb750-7c36-45cc-c21d-b7bbef64d61c"
      },
      "execution_count": null,
      "outputs": [
        {
          "output_type": "stream",
          "name": "stdout",
          "text": [
            "Cuantos premios recibe tu mascota al dia? 40\n",
            "Tu mascota recibe: 40 premios por lo tanto tu mascota es gord@\n"
          ]
        }
      ]
    },
    {
      "cell_type": "markdown",
      "source": [
        "## Clases y Polimorfismos\n",
        "\n",
        "\n",
        "*   Función Class(nombre): el nombre es donde escribiremos definiciones\n",
        "*   self se autoasigna una variable y se pueden tantos cono quieras\n",
        "*   Class es el nombre mayoritario para un conjunto de definiciones"
      ],
      "metadata": {
        "id": "dCVyUmnKkl_x"
      }
    },
    {
      "cell_type": "code",
      "source": [
        "class mascota:\n",
        "  def hable(self):\n",
        "    return NotImplementedError\n",
        "\n",
        "class Perro(mascota):\n",
        "  def hable(self):\n",
        "    return \"WOOF!!\"\n",
        "class Gato(mascota):\n",
        "  def hable(self):\n",
        "    return \"MIAUU!!\"\n",
        "class Pollo(mascota):\n",
        "  def hable(self):\n",
        "    return \"PIOOO!!\"\n",
        "class Vaca(mascota):\n",
        "  def hable(self):\n",
        "    return \"MUUUU!!\"\n",
        "class Gallina(mascota):\n",
        "  def hable(self):\n",
        "    return \"KIKIRIKI!!\"\n",
        "class Cerdo(mascota):\n",
        "  def hable(self):\n",
        "    return \"OINK!!\""
      ],
      "metadata": {
        "id": "H1qwfAx9mzBp"
      },
      "execution_count": null,
      "outputs": []
    },
    {
      "cell_type": "code",
      "source": [
        "# Vamos a crear una lista de mascotas\n",
        "mascotas =[Perro(), Gato(), Pollo(),Vaca(), Gallina(), Cerdo()] #generador de objetos dentro de la clase"
      ],
      "metadata": {
        "id": "De3o2E2TnXM9"
      },
      "execution_count": null,
      "outputs": []
    },
    {
      "cell_type": "code",
      "source": [
        "for mascota in mascotas:\n",
        "  print(mascota.hable())"
      ],
      "metadata": {
        "colab": {
          "base_uri": "https://localhost:8080/"
        },
        "id": "6-XXvvb6oYIu",
        "outputId": "88f62698-0c2d-4054-fa1a-47243a415dc2"
      },
      "execution_count": null,
      "outputs": [
        {
          "output_type": "stream",
          "name": "stdout",
          "text": [
            "WOOF!!\n",
            "MIAUU!!\n",
            "PIOOO!!\n",
            "MUUUU!!\n",
            "KIKIRIKI!!\n",
            "OINK!!\n"
          ]
        }
      ]
    },
    {
      "cell_type": "code",
      "source": [
        "#Generador de objetos global\n",
        "class Persona:\n",
        "  def __init__(self, nombre, edad):\n",
        "    self.nombre = nombre\n",
        "    self.edad = edad"
      ],
      "metadata": {
        "id": "AyUoZgqNoZ3F"
      },
      "execution_count": null,
      "outputs": []
    },
    {
      "cell_type": "code",
      "source": [
        "Daniela = Persona(\"Daniela\", 21)"
      ],
      "metadata": {
        "id": "BNPHA3vOrXVz"
      },
      "execution_count": null,
      "outputs": []
    },
    {
      "cell_type": "code",
      "source": [
        "Daniela.nombre"
      ],
      "metadata": {
        "colab": {
          "base_uri": "https://localhost:8080/",
          "height": 35
        },
        "id": "XjuBBVhsrhmj",
        "outputId": "c2deb36f-0ecf-4f47-f325-a266f457d9c8"
      },
      "execution_count": null,
      "outputs": [
        {
          "output_type": "execute_result",
          "data": {
            "text/plain": [
              "'Daniela'"
            ],
            "application/vnd.google.colaboratory.intrinsic+json": {
              "type": "string"
            }
          },
          "metadata": {},
          "execution_count": 35
        }
      ]
    },
    {
      "cell_type": "code",
      "source": [
        "Daniela.edad"
      ],
      "metadata": {
        "id": "_v_747mNrqN9",
        "outputId": "b9a8fbb1-2bc6-4813-afd1-063ee247b84f",
        "colab": {
          "base_uri": "https://localhost:8080/"
        }
      },
      "execution_count": null,
      "outputs": [
        {
          "output_type": "execute_result",
          "data": {
            "text/plain": [
              "21"
            ]
          },
          "metadata": {},
          "execution_count": 36
        }
      ]
    },
    {
      "cell_type": "code",
      "source": [],
      "metadata": {
        "id": "p2i8__wKrtv6"
      },
      "execution_count": null,
      "outputs": []
    }
  ]
}