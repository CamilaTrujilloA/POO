{
  "nbformat": 4,
  "nbformat_minor": 0,
  "metadata": {
    "colab": {
      "provenance": []
    },
    "kernelspec": {
      "name": "python3",
      "display_name": "Python 3"
    },
    "language_info": {
      "name": "python"
    }
  },
  "cells": [
    {
      "cell_type": "markdown",
      "source": [
        "#Clases, herencias y polimorfismos"
      ],
      "metadata": {
        "id": "-jwUnwdPk0kX"
      }
    },
    {
      "cell_type": "markdown",
      "source": [
        "###Definiciones (def)\n",
        "Son operaciones globales en el notebook, operaciones sobre los argumentos"
      ],
      "metadata": {
        "id": "0IxwJv7fncZ6"
      }
    },
    {
      "cell_type": "code",
      "source": [
        "#Vamos a crear una definición (que es una función integrada en python)\n",
        "\n",
        "def Milanesi(a,b,c):\n",
        "  x=a+b*c\n",
        "  return x"
      ],
      "metadata": {
        "id": "aN6xYiMck6Lw"
      },
      "execution_count": null,
      "outputs": []
    },
    {
      "cell_type": "code",
      "source": [
        "Milanesi(1,2,3)"
      ],
      "metadata": {
        "colab": {
          "base_uri": "https://localhost:8080/"
        },
        "id": "OIoCBJNHpEyy",
        "outputId": "be387adc-d18f-493e-914d-199e37cca8da"
      },
      "execution_count": null,
      "outputs": [
        {
          "output_type": "execute_result",
          "data": {
            "text/plain": [
              "7"
            ]
          },
          "metadata": {},
          "execution_count": 2
        }
      ]
    },
    {
      "cell_type": "code",
      "source": [
        "#Vamos a crear una definición que calcule la inversa de una matriz\n",
        "import numpy as np\n",
        "\n",
        "def Inv_Matrix (M):\n",
        "  x=np.linalg.inv(M)\n",
        "  return x"
      ],
      "metadata": {
        "id": "oGosHO_GpMi3"
      },
      "execution_count": null,
      "outputs": []
    },
    {
      "cell_type": "code",
      "source": [
        "A=np.array([[1,2,3],[0,1,0],[2,1,1]])\n",
        "A\n"
      ],
      "metadata": {
        "colab": {
          "base_uri": "https://localhost:8080/"
        },
        "id": "0kIGsZEsq9xj",
        "outputId": "5e55b93c-10f9-488b-accc-99ced25cb1b7"
      },
      "execution_count": null,
      "outputs": [
        {
          "output_type": "execute_result",
          "data": {
            "text/plain": [
              "array([[1, 2, 3],\n",
              "       [0, 1, 0],\n",
              "       [2, 1, 1]])"
            ]
          },
          "metadata": {},
          "execution_count": 11
        }
      ]
    },
    {
      "cell_type": "code",
      "source": [
        "Inv_Matrix (A)\n"
      ],
      "metadata": {
        "colab": {
          "base_uri": "https://localhost:8080/"
        },
        "id": "iCMViQBgruEW",
        "outputId": "30e75833-6783-4316-e5e0-451ae67f152b"
      },
      "execution_count": null,
      "outputs": [
        {
          "output_type": "execute_result",
          "data": {
            "text/plain": [
              "array([[-0.2, -0.2,  0.6],\n",
              "       [ 0. ,  1. ,  0. ],\n",
              "       [ 0.4, -0.6, -0.2]])"
            ]
          },
          "metadata": {},
          "execution_count": 30
        }
      ]
    },
    {
      "cell_type": "code",
      "source": [
        "A.shape"
      ],
      "metadata": {
        "id": "hLgeSRuJ0AbR",
        "outputId": "d9dac72b-2076-4057-df26-c25273efa149",
        "colab": {
          "base_uri": "https://localhost:8080/"
        }
      },
      "execution_count": null,
      "outputs": [
        {
          "output_type": "execute_result",
          "data": {
            "text/plain": [
              "(3, 3)"
            ]
          },
          "metadata": {},
          "execution_count": 31
        }
      ]
    },
    {
      "cell_type": "code",
      "source": [
        "# np.random.seed --- esto es para fijar los elementos\n",
        "np.random.seed (12)\n",
        "y=np.random.randint(1,20,size=(2,2))\n",
        "y"
      ],
      "metadata": {
        "colab": {
          "base_uri": "https://localhost:8080/"
        },
        "id": "8Mu-Xbf3sJZ8",
        "outputId": "8f5d0f5a-5e77-499d-f7ef-b9fb3b405ba7"
      },
      "execution_count": null,
      "outputs": [
        {
          "output_type": "execute_result",
          "data": {
            "text/plain": [
              "array([[12,  7],\n",
              "       [18,  3]])"
            ]
          },
          "metadata": {},
          "execution_count": 26
        }
      ]
    },
    {
      "cell_type": "code",
      "source": [
        "Inv_Matrix(y)"
      ],
      "metadata": {
        "colab": {
          "base_uri": "https://localhost:8080/"
        },
        "id": "AuJ14uYTx9vC",
        "outputId": "40d92536-265d-4494-9a5c-b15bb4a96860"
      },
      "execution_count": null,
      "outputs": [
        {
          "output_type": "execute_result",
          "data": {
            "text/plain": [
              "array([[-0.03333333,  0.07777778],\n",
              "       [ 0.2       , -0.13333333]])"
            ]
          },
          "metadata": {},
          "execution_count": 27
        }
      ]
    },
    {
      "cell_type": "code",
      "source": [
        "y.shape"
      ],
      "metadata": {
        "colab": {
          "base_uri": "https://localhost:8080/"
        },
        "id": "AShlfoWsyMAz",
        "outputId": "30e58aeb-64f3-4984-971c-b9e69a7d4e2f"
      },
      "execution_count": null,
      "outputs": [
        {
          "output_type": "execute_result",
          "data": {
            "text/plain": [
              "(2, 2)"
            ]
          },
          "metadata": {},
          "execution_count": 29
        }
      ]
    },
    {
      "cell_type": "code",
      "source": [],
      "metadata": {
        "id": "Uhpk_q3Sz4fi"
      },
      "execution_count": null,
      "outputs": []
    }
  ]
}