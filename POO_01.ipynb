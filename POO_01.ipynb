{
  "nbformat": 4,
  "nbformat_minor": 0,
  "metadata": {
    "colab": {
      "provenance": []
    },
    "kernelspec": {
      "name": "python3",
      "display_name": "Python 3"
    },
    "language_info": {
      "name": "python"
    }
  },
  "cells": [
    {
      "cell_type": "markdown",
      "source": [
        "# Introducción a Objetos\n",
        "## Primeros Objetos"
      ],
      "metadata": {
        "id": "hb1aRsJ8TEFt"
      }
    },
    {
      "cell_type": "markdown",
      "source": [
        "La Función que identifica el tipo de objeto es la función `type`"
      ],
      "metadata": {
        "id": "xsQlyPx-Uwj4"
      }
    },
    {
      "cell_type": "markdown",
      "source": [
        "Las variables se escriben como sigue:"
      ],
      "metadata": {
        "id": "wfpOGZDsV3u0"
      }
    },
    {
      "cell_type": "code",
      "source": [
        "num=5\n",
        "\n",
        "saludo =\"Hola Mundo!\""
      ],
      "metadata": {
        "id": "16oSBQ2wVzzL"
      },
      "execution_count": 2,
      "outputs": []
    },
    {
      "cell_type": "code",
      "source": [
        "print(num)"
      ],
      "metadata": {
        "colab": {
          "base_uri": "https://localhost:8080/"
        },
        "id": "bdblaDIUWdmJ",
        "outputId": "3d6f7ad8-3c48-4547-aa75-b213df14b9ac"
      },
      "execution_count": 3,
      "outputs": [
        {
          "output_type": "stream",
          "name": "stdout",
          "text": [
            "5\n"
          ]
        }
      ]
    },
    {
      "cell_type": "code",
      "source": [
        "print(saludo)"
      ],
      "metadata": {
        "colab": {
          "base_uri": "https://localhost:8080/"
        },
        "id": "RPijEKiFWwbK",
        "outputId": "83c0e1b0-094f-4f29-cfa0-1aace75412d6"
      },
      "execution_count": 4,
      "outputs": [
        {
          "output_type": "stream",
          "name": "stdout",
          "text": [
            "Hola Mundo!\n"
          ]
        }
      ]
    },
    {
      "cell_type": "code",
      "source": [
        "type(num)"
      ],
      "metadata": {
        "colab": {
          "base_uri": "https://localhost:8080/"
        },
        "id": "mhIc2aCEXlEf",
        "outputId": "12df8530-3b10-463c-ed63-98ea6e186914"
      },
      "execution_count": 5,
      "outputs": [
        {
          "output_type": "execute_result",
          "data": {
            "text/plain": [
              "int"
            ]
          },
          "metadata": {},
          "execution_count": 5
        }
      ]
    },
    {
      "cell_type": "code",
      "source": [
        "type(saludo)"
      ],
      "metadata": {
        "colab": {
          "base_uri": "https://localhost:8080/"
        },
        "id": "7oZP2CEVXngf",
        "outputId": "ae187e9b-14d0-487b-8b98-17c2e5db37cb"
      },
      "execution_count": 6,
      "outputs": [
        {
          "output_type": "execute_result",
          "data": {
            "text/plain": [
              "str"
            ]
          },
          "metadata": {},
          "execution_count": 6
        }
      ]
    },
    {
      "cell_type": "code",
      "source": [
        "# El siguente codigo verifica si \"num\" y \"saludo\" sonobjetos iguales o diferentes.\n",
        "# El resultado arroja un valor booleano.\n",
        "type(num)==type(saludo)"
      ],
      "metadata": {
        "colab": {
          "base_uri": "https://localhost:8080/"
        },
        "id": "U10Bz6O_X2Yp",
        "outputId": "15bcaec3-115f-4b78-d4c0-2af4556b4e2a"
      },
      "execution_count": 8,
      "outputs": [
        {
          "output_type": "execute_result",
          "data": {
            "text/plain": [
              "False"
            ]
          },
          "metadata": {},
          "execution_count": 8
        }
      ]
    },
    {
      "cell_type": "code",
      "source": [
        "# Convierte un int(entero) en flotante (con decimales)\n",
        "float(num)"
      ],
      "metadata": {
        "colab": {
          "base_uri": "https://localhost:8080/"
        },
        "id": "gAsVd_zbZLY0",
        "outputId": "fc0a9f9b-f176-4813-eb5e-d999648f76cf"
      },
      "execution_count": 9,
      "outputs": [
        {
          "output_type": "execute_result",
          "data": {
            "text/plain": [
              "5.0"
            ]
          },
          "metadata": {},
          "execution_count": 9
        }
      ]
    },
    {
      "cell_type": "code",
      "source": [
        "# Convierte \"num\" a satring y volvemos a declarar\n",
        "num_s=str(num)\n",
        "print(num_s)"
      ],
      "metadata": {
        "colab": {
          "base_uri": "https://localhost:8080/"
        },
        "id": "svL169vAZ1pQ",
        "outputId": "89d963ac-8938-48d9-b6a6-4ceea1aa2bfa"
      },
      "execution_count": 14,
      "outputs": [
        {
          "output_type": "stream",
          "name": "stdout",
          "text": [
            "5\n"
          ]
        }
      ]
    },
    {
      "cell_type": "code",
      "source": [
        "type(num_s)==type(saludo)"
      ],
      "metadata": {
        "colab": {
          "base_uri": "https://localhost:8080/"
        },
        "id": "717zlb-NaIr5",
        "outputId": "671b97f4-4eca-49ef-fa10-e5a95335be5f"
      },
      "execution_count": 13,
      "outputs": [
        {
          "output_type": "execute_result",
          "data": {
            "text/plain": [
              "True"
            ]
          },
          "metadata": {},
          "execution_count": 13
        }
      ]
    },
    {
      "cell_type": "code",
      "source": [
        "# Funcion \"range\" es un conjunto donde pones un rango para crear indices\n",
        "range(1,10)"
      ],
      "metadata": {
        "colab": {
          "base_uri": "https://localhost:8080/"
        },
        "id": "BNwWrrcVa4vt",
        "outputId": "4a01f23f-23ca-4149-9371-6667b5fa5da0"
      },
      "execution_count": 16,
      "outputs": [
        {
          "output_type": "execute_result",
          "data": {
            "text/plain": [
              "range(1, 10)"
            ]
          },
          "metadata": {},
          "execution_count": 16
        }
      ]
    },
    {
      "cell_type": "code",
      "source": [
        "# Vamos a mostrar los elementos de \"range(10)\"\n",
        "# ya que python empieza en 0 siempre llega a un numero menos al del rango.\n",
        "# para que este dentro del for tiene que haber una sangria.\n",
        "for i in range(11):\n",
        "  print(i)"
      ],
      "metadata": {
        "colab": {
          "base_uri": "https://localhost:8080/"
        },
        "id": "1d-tg-cDb0Au",
        "outputId": "b3b548aa-a059-4201-97ed-d8bf84a15437"
      },
      "execution_count": 20,
      "outputs": [
        {
          "output_type": "stream",
          "name": "stdout",
          "text": [
            "0\n",
            "1\n",
            "2\n",
            "3\n",
            "4\n",
            "5\n",
            "6\n",
            "7\n",
            "8\n",
            "9\n",
            "10\n"
          ]
        }
      ]
    },
    {
      "cell_type": "code",
      "source": [
        "# Para crear listas:\n",
        "# Las listas se abren y cierran con corchetes.\n",
        "# Los elementos pueden ser de cualquier tipo, cada elemento es un objeto.\n",
        "lista_1=[1,\"1\", 1.0, [2,3]]"
      ],
      "metadata": {
        "id": "bCm9LTLDdrWz"
      },
      "execution_count": 22,
      "outputs": []
    },
    {
      "cell_type": "code",
      "source": [
        "type(lista_1)"
      ],
      "metadata": {
        "colab": {
          "base_uri": "https://localhost:8080/"
        },
        "id": "6PB18Hs5eXIH",
        "outputId": "ebb49a58-057c-49c6-bd91-b05322fee1c1"
      },
      "execution_count": 23,
      "outputs": [
        {
          "output_type": "execute_result",
          "data": {
            "text/plain": [
              "list"
            ]
          },
          "metadata": {},
          "execution_count": 23
        }
      ]
    },
    {
      "cell_type": "code",
      "source": [
        "lista_2=[x for x in range(11)]\n",
        "print(lista_2)"
      ],
      "metadata": {
        "colab": {
          "base_uri": "https://localhost:8080/"
        },
        "id": "p7pUSgI1e2Lx",
        "outputId": "09e2e1f0-e956-4581-b0a0-acfb6b726ed8"
      },
      "execution_count": 24,
      "outputs": [
        {
          "output_type": "stream",
          "name": "stdout",
          "text": [
            "[0, 1, 2, 3, 4, 5, 6, 7, 8, 9, 10]\n"
          ]
        }
      ]
    }
  ]
}