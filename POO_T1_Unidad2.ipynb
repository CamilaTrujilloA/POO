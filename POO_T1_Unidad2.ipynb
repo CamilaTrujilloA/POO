{
  "nbformat": 4,
  "nbformat_minor": 0,
  "metadata": {
    "colab": {
      "provenance": []
    },
    "kernelspec": {
      "name": "python3",
      "display_name": "Python 3"
    },
    "language_info": {
      "name": "python"
    }
  },
  "cells": [
    {
      "cell_type": "markdown",
      "source": [
        "## Tarea\n",
        "### Instrucciones:\n",
        "\n",
        "\n",
        "*   La tarea se entrega individualmente.\n",
        "*   Leer los lineamientos e instrucciones que se enuentran en Moodle.\n",
        "*   Sube tu Notebook a tu GitHub\n",
        "*  La entrega se hace por Moodle compartiendo tu liga a GitHub.\n",
        "*  Fecha de entrega  **Martes 26 de septiembre antes de las 20:00hrs**\n",
        "*  Si existiera duda alguna, mandarlas por email.\n"
      ],
      "metadata": {
        "id": "NfM9cGBbKfCx"
      }
    },
    {
      "cell_type": "code",
      "source": [
        "# Crea una clase que se llame Animal\n",
        "class Animal():\n",
        "# define un inicializador que contenga dos argumentos (a y b) que asignarás\n",
        "    def __init__(self, a, b):\n",
        "        self.a = a\n",
        "        self.b = b\n",
        "# Crea una clase heredada que se llame Mascota\n",
        "class Mascota(Animal):\n",
        "    # usar super(), (objeto temporal de la superclase) nos permite acceder a métodos de la clase madre\n",
        "    def __init__(self, c, d):\n",
        "        super().__init__(c, d)\n",
        "    # define tres métodos asociados a Mascota\n",
        "    def metodo1(self):\n",
        "\n",
        "        # Método específico de Mascota 1\n",
        "        pass\n",
        "\n",
        "    def metodo2(self):\n",
        "        # Método específico de Mascota 2\n",
        "        pass\n",
        "\n",
        "    def metodo3(self):\n",
        "        # Método específico de Mascota 3\n",
        "        pass"
      ],
      "metadata": {
        "id": "1flMCDJCKgCp"
      },
      "execution_count": 1,
      "outputs": []
    },
    {
      "cell_type": "code",
      "source": [
        "# Ejemplo de cómo usar la clase Animal\n",
        "mi_animal = Animal(\"perro\", 4)\n",
        "print(mi_animal.a)\n",
        "print(mi_animal.b)"
      ],
      "metadata": {
        "colab": {
          "base_uri": "https://localhost:8080/"
        },
        "id": "yhv4G5yOQRYx",
        "outputId": "00096b9c-1ebe-4f52-8710-4a4d067404d1"
      },
      "execution_count": 2,
      "outputs": [
        {
          "output_type": "stream",
          "name": "stdout",
          "text": [
            "perro\n",
            "4\n"
          ]
        }
      ]
    },
    {
      "cell_type": "code",
      "source": [
        "# Crear una instancia de Mascota\n",
        "mi_mascota = Mascota(\"gato\", \"peludo\")\n",
        "\n",
        "# Acceder a los métodos\n",
        "mi_mascota.metodo1()\n",
        "mi_mascota.metodo2()\n",
        "mi_mascota.metodo3()\n",
        "\n",
        "# También puedes acceder a los atributos de Animal (a y b)\n",
        "print(f\"Atributo 'a': {mi_mascota.a}\")\n",
        "print(f\"Atributo 'b': {mi_mascota.b}\")"
      ],
      "metadata": {
        "colab": {
          "base_uri": "https://localhost:8080/"
        },
        "id": "P2AcugsMQkM2",
        "outputId": "466050ba-405c-442b-a72f-a54ee81c0dd2"
      },
      "execution_count": 3,
      "outputs": [
        {
          "output_type": "stream",
          "name": "stdout",
          "text": [
            "Atributo 'a': gato\n",
            "Atributo 'b': peludo\n"
          ]
        }
      ]
    },
    {
      "cell_type": "code",
      "source": [
        "# Crea dos clases que tengan asignados nombres de Países.\n",
        "# Para cada clase, define al menos tres características del País considerado: por ejemplo, capital, idioma, etcétera\n",
        "class Pais1:\n",
        "    def __init__(self):\n",
        "        self.nombre = \"España\"\n",
        "        self.capital = \"Madrid\"\n",
        "        self.idioma = \"Español\"\n",
        "\n",
        "class Pais2:\n",
        "    def __init__(self):\n",
        "        self.nombre = \"Francia\"\n",
        "        self.capital = \"París\"\n",
        "        self.idioma = \"Francés\"\n",
        "\n",
        "# Crear instancias u objetos de las clases\n",
        "pais_1 = Pais1()\n",
        "pais_2 = Pais2()\n",
        "\n",
        "# Definir dos variables que sean cursores\n",
        "cursor_1 = pais_1\n",
        "cursor_2 = pais_2\n",
        "\n",
        "# Acceder a las características de los países\n",
        "print(f\"País 1: {cursor_1.nombre}, Capital: {cursor_1.capital}, Idioma: {cursor_1.idioma}\")\n",
        "print(f\"País 2: {cursor_2.nombre}, Capital: {cursor_2.capital}, Idioma: {cursor_2.idioma}\")"
      ],
      "metadata": {
        "colab": {
          "base_uri": "https://localhost:8080/"
        },
        "id": "QS2nxR5kKkyj",
        "outputId": "874ce14d-ba51-47e2-bd1c-3cd235730f3b"
      },
      "execution_count": 4,
      "outputs": [
        {
          "output_type": "stream",
          "name": "stdout",
          "text": [
            "País 1: España, Capital: Madrid, Idioma: Español\n",
            "País 2: Francia, Capital: París, Idioma: Francés\n"
          ]
        }
      ]
    },
    {
      "cell_type": "code",
      "source": [
        "# Define dos variables que sean cursores\n",
        "class Pais1:\n",
        "    def __init__(self):\n",
        "        self.nombre = \"España\"\n",
        "        self.capital = \"Madrid\"\n",
        "        self.idioma = \"Español\"\n",
        "\n",
        "class Pais2:\n",
        "    def __init__(self):\n",
        "        self.nombre = \"Francia\"\n",
        "        self.capital = \"París\"\n",
        "        self.idioma = \"Francés\"\n",
        "\n",
        "var1 = Pais1()\n",
        "var2 = Pais2()\n",
        "\n",
        "# Definir dos variables que sean cursores\n",
        "for pais in (var1, var2):\n",
        "    print(f\"Nombre: {pais.nombre}\")\n",
        "    print(f\"Capital: {pais.capital}\")\n",
        "    print(f\"Idioma: {pais.idioma}\")\n",
        "\n",
        "# Comenta tus resultados"
      ],
      "metadata": {
        "colab": {
          "base_uri": "https://localhost:8080/"
        },
        "id": "TmnZh1bzNH5O",
        "outputId": "58d78b26-9ff1-43c9-dc3b-c739f5ced8b0"
      },
      "execution_count": 5,
      "outputs": [
        {
          "output_type": "stream",
          "name": "stdout",
          "text": [
            "Nombre: España\n",
            "Capital: Madrid\n",
            "Idioma: Español\n",
            "Nombre: Francia\n",
            "Capital: París\n",
            "Idioma: Francés\n"
          ]
        }
      ]
    },
    {
      "cell_type": "code",
      "source": [
        "## Ejemplo de polimorfismo de clase y herencia.\n",
        "# Crea una clase madre que se llame Forma\n",
        "# Crea dos clases heredadas de la clase madre Forma que calcule el área y el perímetro de un círculo\n",
        "# y de un cuadrado, respectivamente.\n",
        "\n",
        "import math\n",
        "\n",
        "class Forma:\n",
        "    def area(self):\n",
        "        pass\n",
        "\n",
        "    def perimetro(self):\n",
        "        pass\n",
        "\n",
        "class Circulo(Forma):\n",
        "    def __init__(self, radio):\n",
        "        self.radio = radio\n",
        "\n",
        "    def area(self):\n",
        "        return math.pi * self.radio**2\n",
        "\n",
        "    def perimetro(self):\n",
        "        return 2 * math.pi * self.radio\n",
        "\n",
        "class Cuadrado(Forma):\n",
        "    def __init__(self, lado):\n",
        "        self.lado = lado\n",
        "\n",
        "    def area(self):\n",
        "        return self.lado**2\n",
        "\n",
        "    def perimetro(self):\n",
        "        return 4 * self.lado\n",
        "\n",
        "# Ejemplo de uso\n",
        "circulo = Circulo(5)\n",
        "cuadrado = Cuadrado(4)\n",
        "\n",
        "print(f\"Área del círculo: {circulo.area()}\")\n",
        "print(f\"Perímetro del círculo: {circulo.perimetro()}\")\n",
        "\n",
        "print(f\"Área del cuadrado: {cuadrado.area()}\")\n",
        "print(f\"Perímetro del cuadrado: {cuadrado.perimetro()}\")\n"
      ],
      "metadata": {
        "colab": {
          "base_uri": "https://localhost:8080/"
        },
        "id": "dh2xbMMKKneK",
        "outputId": "4db9f13e-ad53-46f7-80f9-0ed2f3b3c7ba"
      },
      "execution_count": 6,
      "outputs": [
        {
          "output_type": "stream",
          "name": "stdout",
          "text": [
            "Área del círculo: 78.53981633974483\n",
            "Perímetro del círculo: 31.41592653589793\n",
            "Área del cuadrado: 16\n",
            "Perímetro del cuadrado: 16\n"
          ]
        }
      ]
    }
  ]
}